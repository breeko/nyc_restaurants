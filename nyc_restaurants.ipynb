{
 "cells": [
  {
   "cell_type": "code",
   "execution_count": 2,
   "metadata": {},
   "outputs": [],
   "source": [
    "import numpy as np\n",
    "import pandas as pd\n",
    "import matplotlib.pyplot as plt\n",
    "pd.set_option(\"precision\", 2)\n",
    "pd.options.display.float_format = '{:20,.2f}'.format\n",
    "\n",
    "%matplotlib inline"
   ]
  },
  {
   "cell_type": "markdown",
   "metadata": {},
   "source": [
    "# NYC Restaurants dataset\n",
    "\n",
    "Source: https://data.cityofnewyork.us/Health/Restaurant-Grades/gra9-xbjk/data"
   ]
  },
  {
   "cell_type": "code",
   "execution_count": 3,
   "metadata": {},
   "outputs": [],
   "source": [
    "df = pd.read_csv(\"Restaurant_Grades.csv\")"
   ]
  },
  {
   "cell_type": "code",
   "execution_count": 4,
   "metadata": {},
   "outputs": [
    {
     "data": {
      "text/html": [
       "<div>\n",
       "<style scoped>\n",
       "    .dataframe tbody tr th:only-of-type {\n",
       "        vertical-align: middle;\n",
       "    }\n",
       "\n",
       "    .dataframe tbody tr th {\n",
       "        vertical-align: top;\n",
       "    }\n",
       "\n",
       "    .dataframe thead th {\n",
       "        text-align: right;\n",
       "    }\n",
       "</style>\n",
       "<table border=\"1\" class=\"dataframe\">\n",
       "  <thead>\n",
       "    <tr style=\"text-align: right;\">\n",
       "      <th></th>\n",
       "      <th>DBA</th>\n",
       "      <th>BORO</th>\n",
       "      <th>BUILDING</th>\n",
       "      <th>STREET</th>\n",
       "      <th>ZIPCODE</th>\n",
       "      <th>CUISINE DESCRIPTION</th>\n",
       "      <th>VIOLATION DESCRIPTION</th>\n",
       "      <th>CRITICAL FLAG</th>\n",
       "      <th>SCORE</th>\n",
       "      <th>GRADE</th>\n",
       "      <th>GRADE DATE</th>\n",
       "      <th>RECORD DATE</th>\n",
       "    </tr>\n",
       "  </thead>\n",
       "  <tbody>\n",
       "    <tr>\n",
       "      <th>0</th>\n",
       "      <td>DARKHORSE</td>\n",
       "      <td>MANHATTAN</td>\n",
       "      <td>17</td>\n",
       "      <td>MURRAY STREET</td>\n",
       "      <td>10007</td>\n",
       "      <td>American</td>\n",
       "      <td>Pesticide use not in accordance with label or ...</td>\n",
       "      <td>Not Critical</td>\n",
       "      <td>13.00</td>\n",
       "      <td>A</td>\n",
       "      <td>5/20/2016</td>\n",
       "      <td>3/18/2018</td>\n",
       "    </tr>\n",
       "    <tr>\n",
       "      <th>1</th>\n",
       "      <td>LOTS O BAGELS</td>\n",
       "      <td>QUEENS</td>\n",
       "      <td>3005</td>\n",
       "      <td>BROADWAY</td>\n",
       "      <td>11106</td>\n",
       "      <td>Bagels/Pretzels</td>\n",
       "      <td>Filth flies or food/refuse/sewage-associated (...</td>\n",
       "      <td>Critical</td>\n",
       "      <td>9.00</td>\n",
       "      <td>A</td>\n",
       "      <td>4/2/2015</td>\n",
       "      <td>3/18/2018</td>\n",
       "    </tr>\n",
       "    <tr>\n",
       "      <th>2</th>\n",
       "      <td>LOTUS CAFE &amp; BAGELS</td>\n",
       "      <td>BROOKLYN</td>\n",
       "      <td>4</td>\n",
       "      <td>NEPTUNE AVENUE</td>\n",
       "      <td>11235</td>\n",
       "      <td>American</td>\n",
       "      <td>Facility not vermin proof. Harborage or condit...</td>\n",
       "      <td>Not Critical</td>\n",
       "      <td>12.00</td>\n",
       "      <td>A</td>\n",
       "      <td>1/25/2017</td>\n",
       "      <td>3/18/2018</td>\n",
       "    </tr>\n",
       "    <tr>\n",
       "      <th>3</th>\n",
       "      <td>SUBWAY</td>\n",
       "      <td>BRONX</td>\n",
       "      <td>1490</td>\n",
       "      <td>BOSTON ROAD</td>\n",
       "      <td>10460</td>\n",
       "      <td>Sandwiches</td>\n",
       "      <td>Food Protection Certificate not held by superv...</td>\n",
       "      <td>Critical</td>\n",
       "      <td>12.00</td>\n",
       "      <td>A</td>\n",
       "      <td>12/27/2017</td>\n",
       "      <td>3/18/2018</td>\n",
       "    </tr>\n",
       "    <tr>\n",
       "      <th>4</th>\n",
       "      <td>810 DELI &amp; CAFE</td>\n",
       "      <td>MANHATTAN</td>\n",
       "      <td>810</td>\n",
       "      <td>7 AVENUE</td>\n",
       "      <td>10019</td>\n",
       "      <td>American</td>\n",
       "      <td>Plumbing not properly installed or maintained;...</td>\n",
       "      <td>Not Critical</td>\n",
       "      <td>9.00</td>\n",
       "      <td>A</td>\n",
       "      <td>11/15/2017</td>\n",
       "      <td>3/18/2018</td>\n",
       "    </tr>\n",
       "  </tbody>\n",
       "</table>\n",
       "</div>"
      ],
      "text/plain": [
       "                   DBA       BORO BUILDING          STREET  ZIPCODE  \\\n",
       "0            DARKHORSE  MANHATTAN       17   MURRAY STREET    10007   \n",
       "1        LOTS O BAGELS     QUEENS     3005        BROADWAY    11106   \n",
       "2  LOTUS CAFE & BAGELS   BROOKLYN        4  NEPTUNE AVENUE    11235   \n",
       "3               SUBWAY      BRONX     1490     BOSTON ROAD    10460   \n",
       "4      810 DELI & CAFE  MANHATTAN      810        7 AVENUE    10019   \n",
       "\n",
       "  CUISINE DESCRIPTION                              VIOLATION DESCRIPTION  \\\n",
       "0            American  Pesticide use not in accordance with label or ...   \n",
       "1     Bagels/Pretzels  Filth flies or food/refuse/sewage-associated (...   \n",
       "2            American  Facility not vermin proof. Harborage or condit...   \n",
       "3          Sandwiches  Food Protection Certificate not held by superv...   \n",
       "4            American  Plumbing not properly installed or maintained;...   \n",
       "\n",
       "  CRITICAL FLAG                SCORE GRADE  GRADE DATE RECORD DATE  \n",
       "0  Not Critical                13.00     A   5/20/2016   3/18/2018  \n",
       "1      Critical                 9.00     A    4/2/2015   3/18/2018  \n",
       "2  Not Critical                12.00     A   1/25/2017   3/18/2018  \n",
       "3      Critical                12.00     A  12/27/2017   3/18/2018  \n",
       "4  Not Critical                 9.00     A  11/15/2017   3/18/2018  "
      ]
     },
     "execution_count": 4,
     "metadata": {},
     "output_type": "execute_result"
    }
   ],
   "source": [
    "# Describe the data\n",
    "df.head(5)"
   ]
  },
  {
   "cell_type": "code",
   "execution_count": 5,
   "metadata": {},
   "outputs": [
    {
     "name": "stdout",
     "output_type": "stream",
     "text": [
      "num ratings: 186185 num unique restaurants: 24614\n"
     ]
    },
    {
     "data": {
      "text/html": [
       "<div>\n",
       "<style scoped>\n",
       "    .dataframe tbody tr th:only-of-type {\n",
       "        vertical-align: middle;\n",
       "    }\n",
       "\n",
       "    .dataframe tbody tr th {\n",
       "        vertical-align: top;\n",
       "    }\n",
       "\n",
       "    .dataframe thead th {\n",
       "        text-align: right;\n",
       "    }\n",
       "</style>\n",
       "<table border=\"1\" class=\"dataframe\">\n",
       "  <thead>\n",
       "    <tr style=\"text-align: right;\">\n",
       "      <th></th>\n",
       "      <th>KEY</th>\n",
       "    </tr>\n",
       "  </thead>\n",
       "  <tbody>\n",
       "    <tr>\n",
       "      <th>0</th>\n",
       "      <td>DARKHORSE 17 MURRAY STREET 10007</td>\n",
       "    </tr>\n",
       "    <tr>\n",
       "      <th>1</th>\n",
       "      <td>LOTS O BAGELS 3005 BROADWAY 11106</td>\n",
       "    </tr>\n",
       "    <tr>\n",
       "      <th>2</th>\n",
       "      <td>LOTUS CAFE &amp; BAGELS 4 NEPTUNE AVENUE 11235</td>\n",
       "    </tr>\n",
       "    <tr>\n",
       "      <th>3</th>\n",
       "      <td>SUBWAY 1490 BOSTON ROAD 10460</td>\n",
       "    </tr>\n",
       "    <tr>\n",
       "      <th>4</th>\n",
       "      <td>810 DELI &amp; CAFE 810 7 AVENUE 10019</td>\n",
       "    </tr>\n",
       "  </tbody>\n",
       "</table>\n",
       "</div>"
      ],
      "text/plain": [
       "                                          KEY\n",
       "0            DARKHORSE 17 MURRAY STREET 10007\n",
       "1           LOTS O BAGELS 3005 BROADWAY 11106\n",
       "2  LOTUS CAFE & BAGELS 4 NEPTUNE AVENUE 11235\n",
       "3               SUBWAY 1490 BOSTON ROAD 10460\n",
       "4          810 DELI & CAFE 810 7 AVENUE 10019"
      ]
     },
     "execution_count": 5,
     "metadata": {},
     "output_type": "execute_result"
    }
   ],
   "source": [
    "# Replace spaces with underscores\n",
    "df.columns = df.columns.str.replace(\" \",\"_\")\n",
    "\n",
    "# Convert dates to datetime\n",
    "df.GRADE_DATE = pd.to_datetime(df.GRADE_DATE, format=\"%m/%d/%Y\")\n",
    "df.RECORD_DATE = pd.to_datetime(df.RECORD_DATE, format=\"%m/%d/%Y\")\n",
    "\n",
    "# Create a unique key based on restaurant\n",
    "df[\"KEY\"] = df[['DBA', 'BUILDING', \"STREET\", \"ZIPCODE\"]].astype(str).apply(lambda x: ' '.join(x), axis=1)\n",
    "print(\"num ratings: {} num unique restaurants: {}\".format(len(df), len(df.KEY.unique())))\n",
    "df[[\"KEY\"]].head(5)"
   ]
  },
  {
   "cell_type": "code",
   "execution_count": 6,
   "metadata": {},
   "outputs": [],
   "source": [
    "# Scores are broken down by critical, not critical and not applicable, which results in duplicate rows for the same rating\n",
    "df = df[[\"KEY\",\"DBA\",\"CUISINE_DESCRIPTION\",\"SCORE\",\"GRADE\",\"GRADE_DATE\"]].drop_duplicates()\n",
    "df = df.sort_values(\"GRADE_DATE\")"
   ]
  },
  {
   "cell_type": "markdown",
   "metadata": {},
   "source": [
    "## What is the breakdown of the ratings?"
   ]
  },
  {
   "cell_type": "markdown",
   "metadata": {},
   "source": [
    "The score is from 0 up. Low score is good as it indicates no violations. Each violation has some point value so a score of 0 means there are no violations. There are three types of violations:\n",
    "\n",
    "1.\tGeneral – e.g. not properly santizing cooking utensiles – min 2 points\n",
    "2.\tCritical – e.g. serving raw food such as a salad without properly washing it first – min 5 points\n",
    "3.\tPublic Health Hazard – e.g. failing to keep food at right temperature – min 7 points\n",
    "\n",
    "The final grade is based on the sum of all the points. A score of 0 to 13 earns an A. 14 to 27 earns a B and 28 or more earns a C. Below is a breakdown of the ratings\n"
   ]
  },
  {
   "cell_type": "code",
   "execution_count": 7,
   "metadata": {
    "scrolled": true
   },
   "outputs": [
    {
     "data": {
      "text/html": [
       "<div>\n",
       "<style scoped>\n",
       "    .dataframe tbody tr th:only-of-type {\n",
       "        vertical-align: middle;\n",
       "    }\n",
       "\n",
       "    .dataframe tbody tr th {\n",
       "        vertical-align: top;\n",
       "    }\n",
       "\n",
       "    .dataframe thead th {\n",
       "        text-align: right;\n",
       "    }\n",
       "</style>\n",
       "<table border=\"1\" class=\"dataframe\">\n",
       "  <thead>\n",
       "    <tr style=\"text-align: right;\">\n",
       "      <th></th>\n",
       "      <th>count</th>\n",
       "      <th>perc</th>\n",
       "    </tr>\n",
       "    <tr>\n",
       "      <th>GRADE</th>\n",
       "      <th></th>\n",
       "      <th></th>\n",
       "    </tr>\n",
       "  </thead>\n",
       "  <tbody>\n",
       "    <tr>\n",
       "      <th>A</th>\n",
       "      <td>70857</td>\n",
       "      <td>0.87</td>\n",
       "    </tr>\n",
       "    <tr>\n",
       "      <th>B</th>\n",
       "      <td>6721</td>\n",
       "      <td>0.08</td>\n",
       "    </tr>\n",
       "    <tr>\n",
       "      <th>C</th>\n",
       "      <td>1466</td>\n",
       "      <td>0.02</td>\n",
       "    </tr>\n",
       "    <tr>\n",
       "      <th>Not Yet Graded</th>\n",
       "      <td>2</td>\n",
       "      <td>0.00</td>\n",
       "    </tr>\n",
       "    <tr>\n",
       "      <th>P</th>\n",
       "      <td>1193</td>\n",
       "      <td>0.01</td>\n",
       "    </tr>\n",
       "    <tr>\n",
       "      <th>Z</th>\n",
       "      <td>972</td>\n",
       "      <td>0.01</td>\n",
       "    </tr>\n",
       "  </tbody>\n",
       "</table>\n",
       "</div>"
      ],
      "text/plain": [
       "                count                 perc\n",
       "GRADE                                     \n",
       "A               70857                 0.87\n",
       "B                6721                 0.08\n",
       "C                1466                 0.02\n",
       "Not Yet Graded      2                 0.00\n",
       "P                1193                 0.01\n",
       "Z                 972                 0.01"
      ]
     },
     "execution_count": 7,
     "metadata": {},
     "output_type": "execute_result"
    }
   ],
   "source": [
    "gb = df.groupby(\"GRADE\").GRADE.agg([\"count\"])\n",
    "gb[\"perc\"] = gb / gb.sum()\n",
    "gb"
   ]
  },
  {
   "cell_type": "markdown",
   "metadata": {},
   "source": [
    "I’m not surprised that the majority of grades are As with less that 2% of inspections resulting in a C grade. How about the distribution of the points?"
   ]
  },
  {
   "cell_type": "code",
   "execution_count": 8,
   "metadata": {},
   "outputs": [],
   "source": [
    "# Define colors to be used in visualizations\n",
    "colors = {\"A\": \"darkseagreen\", \"B\": \"dodgerblue\", \"C\": \"lightcoral\", \"P\": \"wheat\", \"Z\": \"lightgrey\", \"Not Yet Graded\": \"lightgrey\"}"
   ]
  },
  {
   "cell_type": "code",
   "execution_count": 9,
   "metadata": {},
   "outputs": [
    {
     "data": {
      "text/plain": [
       "Text(38,12000,'C')"
      ]
     },
     "execution_count": 9,
     "metadata": {},
     "output_type": "execute_result"
    },
    {
     "data": {
      "image/png": "[encoded data removed]",
      "text/plain": [
       "<Figure size 432x288 with 1 Axes>"
      ]
     },
     "metadata": {},
     "output_type": "display_data"
    }
   ],
   "source": [
    "# Bar graph based on scores, segmented by grade\n",
    "\n",
    "f, ax = plt.subplots()\n",
    "ax.hist(df[(df.SCORE > 0) & (df.SCORE < 50)].SCORE,bins=50, color=\"grey\",alpha=0.5)\n",
    "plt.axvline(13,color=colors[\"A\"],linestyle=\"-\")\n",
    "plt.text(5, 12000,\"A\",color=colors[\"A\"], fontsize=20)\n",
    "plt.axvline(27,color=colors[\"B\"],linestyle=\"-\")\n",
    "plt.text(19, 12000,\"B\",color=colors[\"B\"], fontsize=20)\n",
    "plt.text(38, 12000,\"C\",color=colors[\"C\"], fontsize=20)"
   ]
  },
  {
   "cell_type": "markdown",
   "metadata": {},
   "source": [
    "There seems to be a steep drop-off on 14 points. My guess is that inspectors show leniency when nearing the cut-off threshold. If it’s close, they give the owner the benefit of receiving the higher grade since the letter grade is the most visible component to the customer. Another, less plausible explanation, is that restaurants understand there is some leniency with certain violations, so they allow themselves some violations while maintaining an A grade. Also, note that the cut-off exists from B to C grade as well, although it’s a steady decline leading up to the C score."
   ]
  },
  {
   "cell_type": "markdown",
   "metadata": {},
   "source": [
    "## Has there been grade inflation?"
   ]
  },
  {
   "cell_type": "code",
   "execution_count": 10,
   "metadata": {},
   "outputs": [
    {
     "data": {
      "text/plain": [
       "Text(0.5,1,'Ratings over time')"
      ]
     },
     "execution_count": 10,
     "metadata": {},
     "output_type": "execute_result"
    },
    {
     "data": {
      "image/png": "[encoded data removed]",
      "text/plain": [
       "<Figure size 720x360 with 1 Axes>"
      ]
     },
     "metadata": {},
     "output_type": "display_data"
    }
   ],
   "source": [
    "f, ax = plt.subplots(figsize=(10,5))\n",
    "\n",
    "df[\"YEAR\"] = df.GRADE_DATE.dt.year\n",
    "\n",
    "gb = df[[\"YEAR\", \"GRADE\",\"SCORE\"]].groupby([\"YEAR\",\"GRADE\"]).agg(\"count\")\n",
    "gb[\"perc\"] = gb / gb.sum(level=0)\n",
    "\n",
    "for year in df.YEAR.unique():\n",
    "    bottom = 0\n",
    "    for grade in sorted(df.GRADE.unique()):\n",
    "        perc = gb[(gb.index.get_level_values(0) == year) & (gb.index.get_level_values(1) == grade)].perc\n",
    "        if len(perc) > 0:\n",
    "            perc = perc.values[0]\n",
    "            ax.bar(year, perc, bottom=bottom, color=colors[grade])\n",
    "            bottom += perc\n",
    "\n",
    "ax.legend(sorted(df.GRADE.unique()), bbox_to_anchor=(1.25,1), loc=\"upper right\")\n",
    "ax.set_title(\"Ratings over time\")"
   ]
  },
  {
   "cell_type": "markdown",
   "metadata": {},
   "source": [
    "No"
   ]
  },
  {
   "cell_type": "markdown",
   "metadata": {},
   "source": [
    "## What restaurants have the best rating for their cuisine?"
   ]
  },
  {
   "cell_type": "code",
   "execution_count": 12,
   "metadata": {},
   "outputs": [
    {
     "data": {
      "text/plain": [
       "CUISINE_DESCRIPTION              DBA                                    MEDIAN  MEAN   MIN   MAX    STD \n",
       "American                         APPLEBEE'S                              8.00    7.76  2.00  13.00  3.53      92\n",
       "                                 AMC THEATRES                            9.50    9.11  2.00  45.00  6.76      56\n",
       "                                 CHECKERS                               10.00    9.14  0.00  26.00  4.31     111\n",
       "                                 BOSTON MARKET                          10.00    9.54  3.00  20.00  3.19      71\n",
       "CafÃ©/Coffee/Tea                 STARBUCKS                               5.00    6.30  0.00  27.00  3.69     947\n",
       "                                 STARBUCKS COFFEE                        5.00    6.54  2.00  17.00  3.64      79\n",
       "Caribbean                        GOLDEN KRUST CARIBBEAN BAKERY & GRILL  10.00   10.51  2.00  46.00  5.55     182\n",
       "Chicken                          POPEYES LOUISIANA KITCHEN               9.00    8.60  2.00  32.00  4.60     257\n",
       "                                 KENNEDY FRIED CHICKEN                  10.00   10.03  0.00  51.00  5.48     285\n",
       "                                 CROWN FRIED CHICKEN                    10.00   10.72  0.00  43.00  5.35     208\n",
       "                                 KFC                                    10.00    9.42  0.00  36.00  4.97     132\n",
       "Donuts                           DUNKIN DONUTS                           7.00    7.17  0.00  13.00  3.79      89\n",
       "                                 DUNKIN' DONUTS                          8.00    7.89  0.00  41.00  4.26    1489\n",
       "                                 DUNKIN' DONUTS, BASKIN ROBBINS          9.00    8.50  0.00  36.00  4.38     431\n",
       "Hamburgers                       WHITE CASTLE                            7.00    7.25  0.00  13.00  3.59      76\n",
       "                                 MCDONALD'S                              9.00    9.07  0.00  62.00  4.49     705\n",
       "                                 BURGER KING                             9.00    9.19  0.00  36.00  4.81     275\n",
       "                                 WENDY'S                                 9.00    8.83  2.00  21.00  3.58     151\n",
       "                                 FIVE GUYS FAMOUS BURGERS AND FRIES      9.00    8.22  2.00  20.00  3.73      73\n",
       "Ice Cream, Gelato, Yogurt, Ices  CARVEL ICE CREAM                        9.00    8.28  2.00  23.00  4.12     109\n",
       "Mexican                          CHIPOTLE MEXICAN GRILL                  9.00    9.49  0.00  41.00  4.76     251\n",
       "Pizza                            PIZZA HUT                               7.00    7.48  0.00  30.00  4.64      64\n",
       "                                 LITTLE CAESARS                          9.00    7.98  0.00  21.00  3.81     117\n",
       "                                 PAPA JOHN'S                             9.00    8.18  0.00  25.00  4.35     127\n",
       "                                 DOMINO'S                               10.00   10.50  0.00  53.00  7.72     306\n",
       "Salads                           JUST SALAD                              9.00    8.73  2.00  21.00  3.69      70\n",
       "Sandwiches                       PRET A MANGER                           8.00    8.05  2.00  14.00  3.22     154\n",
       "                                 SUBWAY                                  9.00    8.29  0.00  46.00  4.32    1076\n",
       "Sandwiches/Salads/Mixed Buffet   AU BON PAIN                             9.00    8.94  0.00  26.00  4.06     121\n",
       "Soups & Sandwiches               HALE & HEARTY SOUP                      8.50    8.00  0.00  18.00  4.02      86\n",
       "Name: SCORE, dtype: int64"
      ]
     },
     "execution_count": 12,
     "metadata": {},
     "output_type": "execute_result"
    }
   ],
   "source": [
    "gb = df.groupby([\"CUISINE_DESCRIPTION\",\"DBA\"]).GRADE.agg([\"count\"])\n",
    "gb = gb[gb[\"count\"] > 50]\n",
    "popular = gb.index.get_level_values(1).unique()\n",
    "df_popular = df[df.DBA.isin(popular)].copy()\n",
    "\n",
    "for pop in popular:\n",
    "    # Replace cuisine description of each restaurant with most common\n",
    "    new_cuisine_description = df_popular[df_popular.DBA == pop].CUISINE_DESCRIPTION.mode()[0]\n",
    "    df_popular.loc[df_popular.DBA == pop, \"CUISINE_DESCRIPTION\"] = new_cuisine_description\n",
    "\n",
    "df_popular[\"MEDIAN\"] = df_popular.groupby([\"CUISINE_DESCRIPTION\",\"DBA\"],sort=False).SCORE.transform(np.median)\n",
    "df_popular[\"MEAN\"] = df_popular.groupby([\"CUISINE_DESCRIPTION\",\"DBA\"],sort=False).SCORE.transform(np.mean)\n",
    "df_popular[\"MIN\"] = df_popular.groupby([\"CUISINE_DESCRIPTION\",\"DBA\"],sort=False).SCORE.transform(np.min)\n",
    "df_popular[\"MAX\"] = df_popular.groupby([\"CUISINE_DESCRIPTION\",\"DBA\"],sort=False).SCORE.transform(np.max)\n",
    "df_popular[\"STD\"] = df_popular.groupby([\"CUISINE_DESCRIPTION\",\"DBA\"],sort=False).SCORE.transform(np.std)\n",
    "\n",
    "df_popular.sort_values([\"CUISINE_DESCRIPTION\", \"MEDIAN\"], ascending=[True,True]).groupby([\"CUISINE_DESCRIPTION\",\"DBA\",\"MEDIAN\",\"MEAN\",\"MIN\",\"MAX\",\"STD\"],sort=False).SCORE.agg(\"count\")"
   ]
  },
  {
   "cell_type": "markdown",
   "metadata": {},
   "source": [
    "The ratings are surprisingly good, but I suppose that’s expected for large chains. Some establishments like Applebee’s and White Castle (!) have never received a grade other than A. Other groups like  Domino’s are very inconsistent (standard deviation of 9.43) but almost always bad (median score 13.63). But almost all large establishments have a few blemishes with max scores amounting to a C grade."
   ]
  },
  {
   "cell_type": "markdown",
   "metadata": {},
   "source": [
    "## Probability of transitioning from one state to the other (roll rates)"
   ]
  },
  {
   "cell_type": "code",
   "execution_count": null,
   "metadata": {},
   "outputs": [],
   "source": [
    "max_num_ratings = max(df.groupby(\"KEY\").size())\n",
    "columns = [idx for idx in range(max_num_ratings)]\n",
    "columns.insert(0, \"KEY\")\n",
    "df_rest = pd.DataFrame(columns=columns)\n",
    "\n",
    "for key in df.KEY.unique():\n",
    "    df_key = df[df.KEY == key]\n",
    "    new_row = {col: \"NA\" for col in columns}\n",
    "    new_row = {\"KEY\": key}\n",
    "    for idx, (k, v) in enumerate(df_key.iterrows()):\n",
    "        new_row[idx] = v.GRADE\n",
    "    \n",
    "    df_rest = pd.concat([df_rest, pd.DataFrame(new_row, index=[0])], ignore_index=True)\n",
    "    \n",
    "df_rolls = pd.DataFrame(columns=[1,2])\n",
    "for c1 in range(max_num_ratings - 2):\n",
    "    c2 = c1 +  1\n",
    "    df_rest_valid = df_rest[(~df_rest[c1].isna()) & (~df_rest[c2].isna())]\n",
    "    df_roll = pd.concat([df_rest_valid[c1], df_rest_valid[c2]], axis=1)\n",
    "    df_roll.columns = [1,2]\n",
    "    df_rolls = pd.concat([df_rolls, df_roll], ignore_index=True)\n",
    "    \n",
    "df_rolls.head()"
   ]
  },
  {
   "cell_type": "code",
   "execution_count": null,
   "metadata": {},
   "outputs": [],
   "source": [
    "states = [\"A\",\"B\",\"C\",\"P\",\"Z\"]\n",
    "df_roll_rates = pd.DataFrame(np.zeros([5,5]), columns=states, index=states)\n",
    "for s1 in states:\n",
    "    for s2 in states:\n",
    "        num_match = sum((df_rolls[1] == s1) & (df_rolls[2] == s2))\n",
    "        num_all = sum(df_rolls[1] == s1)\n",
    "        if num_all > 0:\n",
    "            df_roll_rates.loc[s2,s1] = num_match / num_all\n",
    "\n",
    "df_roll_rates.columns.name = \"from\"\n",
    "df_roll_rates.index.name = \"to\"\n",
    "\n",
    "df_roll_rates * 100\n"
   ]
  },
  {
   "cell_type": "code",
   "execution_count": null,
   "metadata": {},
   "outputs": [],
   "source": []
  }
 ],
 "metadata": {
  "kernelspec": {
   "display_name": "Python 3",
   "language": "python",
   "name": "python3"
  }
 },
 "nbformat": 4,
 "nbformat_minor": 2
}
